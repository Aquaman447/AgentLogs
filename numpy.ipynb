{
 "cells": [
  {
   "cell_type": "code",
   "execution_count": null,
   "metadata": {},
   "outputs": [],
   "source": [
    "import numpy as np"
   ]
  },
  {
   "cell_type": "code",
   "execution_count": null,
   "metadata": {},
   "outputs": [],
   "source": [
    "array1=np.array([1,2,3])\n",
    "array2=np.array([[3,2,1],[4,5,6]])\n",
    "array3=np.array([[[3,2,1],[6,5,4],[9,8,7]],[[3,2,1],[6,5,4],[9,8,7]]])\n",
    "array4=np.array([[1,2,3],[6,5,4]])\n",
    "#arr = np.zeros((3, 5, 4, 3))\n",
    "#print(arr)"
   ]
  },
  {
   "cell_type": "code",
   "execution_count": null,
   "metadata": {},
   "outputs": [
    {
     "name": "stdout",
     "output_type": "stream",
     "text": [
      "[1 2 3]\n",
      "\n",
      "[[3 2 1]\n",
      " [4 5 6]]\n",
      "\n",
      "[[[3 2 1]\n",
      "  [6 5 4]\n",
      "  [9 8 7]]\n",
      "\n",
      " [[3 2 1]\n",
      "  [6 5 4]\n",
      "  [9 8 7]]]\n",
      "\n"
     ]
    }
   ],
   "source": [
    "print(array1,end=\"\\n\\n\")\n",
    "print(array2,end=\"\\n\\n\")\n",
    "print(array3,end=\"\\n\\n\")"
   ]
  },
  {
   "cell_type": "code",
   "execution_count": null,
   "metadata": {},
   "outputs": [
    {
     "name": "stdout",
     "output_type": "stream",
     "text": [
      "1\n",
      "2\n",
      "3\n"
     ]
    }
   ],
   "source": [
    "print(array1.ndim)\n",
    "print(array2.ndim)\n",
    "print(array3.ndim)\n",
    "#print(arr.ndim)"
   ]
  },
  {
   "cell_type": "code",
   "execution_count": null,
   "metadata": {},
   "outputs": [
    {
     "name": "stdout",
     "output_type": "stream",
     "text": [
      "[[2 4 6]\n",
      " [7 7 7]]\n",
      "\n",
      "[[ 0  0  0]\n",
      " [-5 -3 -1]]\n",
      "\n",
      "[[ 3  4  3]\n",
      " [ 4 10 18]]\n",
      "\n",
      "[[1.         1.         1.        ]\n",
      " [0.16666667 0.4        0.75      ]]\n",
      "\n",
      "[[2 7]\n",
      " [4 7]\n",
      " [6 7]]\n",
      "\n"
     ]
    }
   ],
   "source": [
    "sumarr=np.add(array1,array4)\n",
    "print(sumarr,end=\"\\n\\n\")\n",
    "subarr=np.subtract(array1,array4)\n",
    "print(subarr,end=\"\\n\\n\")\n",
    "multarr=np.multiply(array1,array2)\n",
    "print(multarr,end=\"\\n\\n\")\n",
    "dividearr=np.divide(array1,array4)\n",
    "print(dividearr,end=\"\\n\\n\")\n",
    "transarr=np.transpose(sumarr)\n",
    "print(transarr,end=\"\\n\\n\")\n"
   ]
  },
  {
   "cell_type": "code",
   "execution_count": null,
   "metadata": {},
   "outputs": [
    {
     "name": "stdout",
     "output_type": "stream",
     "text": [
      "\n",
      "Sum of all array elements:  4.316666666666666\n"
     ]
    }
   ],
   "source": [
    "print (\"\\nSum of all array \"\n",
    "       \"elements: \", dividearr.sum())"
   ]
  },
  {
   "cell_type": "code",
   "execution_count": null,
   "metadata": {},
   "outputs": [
    {
     "name": "stdout",
     "output_type": "stream",
     "text": [
      "\n",
      "Forcing a Datatype: \n",
      "int32\n"
     ]
    }
   ],
   "source": [
    "x = np.array([1, 2], dtype = np.int32)   \n",
    "print(\"\\nForcing a Datatype: \")\n",
    "print(x.dtype)"
   ]
  },
  {
   "cell_type": "code",
   "execution_count": null,
   "metadata": {},
   "outputs": [
    {
     "name": "stdout",
     "output_type": "stream",
     "text": [
      "\n",
      "Square root of Array1 elements: \n",
      "[[1.41421356 2.64575131]\n",
      " [2.         2.64575131]\n",
      " [2.44948974 2.64575131]]\n"
     ]
    }
   ],
   "source": [
    "Sqrt = np.sqrt(transarr)\n",
    "print(\"\\nSquare root of Array1 elements: \")\n",
    "print(Sqrt)"
   ]
  },
  {
   "cell_type": "code",
   "execution_count": null,
   "metadata": {},
   "outputs": [
    {
     "name": "stdout",
     "output_type": "stream",
     "text": [
      "A\n",
      " [[4 5 6]\n",
      " [7 8 9]] \n",
      "\n"
     ]
    }
   ],
   "source": [
    "print(\"A\\n\", np.arange(4,10).reshape(2,3) ,\"\\n\")"
   ]
  },
  {
   "cell_type": "code",
   "execution_count": null,
   "metadata": {},
   "outputs": [
    {
     "name": "stdout",
     "output_type": "stream",
     "text": [
      "\n",
      "Array Condition a : \n",
      " [[ True  True]\n",
      " [False  True]\n",
      " [ True  True]]\n"
     ]
    }
   ],
   "source": [
    "a = np.mod(transarr, 4) !=0\n",
    "# This will show element status of satisfying condition\n",
    "print(\"\\nArray Condition a : \\n\", a)"
   ]
  },
  {
   "cell_type": "code",
   "execution_count": null,
   "metadata": {},
   "outputs": [],
   "source": [
    "a=transarr()\n",
    "np.extract(a>5,transarr)"
   ]
  }
 ],
 "metadata": {
  "kernelspec": {
   "display_name": "base",
   "language": "python",
   "name": "python3"
  },
  "language_info": {
   "codemirror_mode": {
    "name": "ipython",
    "version": 3
   },
   "file_extension": ".py",
   "mimetype": "text/x-python",
   "name": "python",
   "nbconvert_exporter": "python",
   "pygments_lexer": "ipython3",
   "version": "3.8.8"
  },
  "orig_nbformat": 4
 },
 "nbformat": 4,
 "nbformat_minor": 2
}
