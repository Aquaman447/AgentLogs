{
 "cells": [
  {
   "cell_type": "code",
   "execution_count": 1,
   "id": "e8ebcd9a",
   "metadata": {},
   "outputs": [],
   "source": [
    "import pandas as pd"
   ]
  },
  {
   "cell_type": "code",
   "execution_count": 2,
   "id": "3535a175",
   "metadata": {},
   "outputs": [
    {
     "data": {
      "text/html": [
       "<div>\n",
       "<style scoped>\n",
       "    .dataframe tbody tr th:only-of-type {\n",
       "        vertical-align: middle;\n",
       "    }\n",
       "\n",
       "    .dataframe tbody tr th {\n",
       "        vertical-align: top;\n",
       "    }\n",
       "\n",
       "    .dataframe thead th {\n",
       "        text-align: right;\n",
       "    }\n",
       "</style>\n",
       "<table border=\"1\" class=\"dataframe\">\n",
       "  <thead>\n",
       "    <tr style=\"text-align: right;\">\n",
       "      <th></th>\n",
       "      <th>Unnamed: 0</th>\n",
       "      <th>id</th>\n",
       "      <th>groups</th>\n",
       "      <th>age</th>\n",
       "      <th>healthy_eating</th>\n",
       "      <th>active_lifestyle</th>\n",
       "      <th>salary</th>\n",
       "    </tr>\n",
       "  </thead>\n",
       "  <tbody>\n",
       "    <tr>\n",
       "      <th>0</th>\n",
       "      <td>0</td>\n",
       "      <td>0</td>\n",
       "      <td>A</td>\n",
       "      <td>36</td>\n",
       "      <td>5</td>\n",
       "      <td>5</td>\n",
       "      <td>2297</td>\n",
       "    </tr>\n",
       "    <tr>\n",
       "      <th>1</th>\n",
       "      <td>1</td>\n",
       "      <td>1</td>\n",
       "      <td>A</td>\n",
       "      <td>55</td>\n",
       "      <td>3</td>\n",
       "      <td>5</td>\n",
       "      <td>1134</td>\n",
       "    </tr>\n",
       "    <tr>\n",
       "      <th>2</th>\n",
       "      <td>2</td>\n",
       "      <td>2</td>\n",
       "      <td>A</td>\n",
       "      <td>61</td>\n",
       "      <td>8</td>\n",
       "      <td>1</td>\n",
       "      <td>4969</td>\n",
       "    </tr>\n",
       "    <tr>\n",
       "      <th>3</th>\n",
       "      <td>3</td>\n",
       "      <td>3</td>\n",
       "      <td>O</td>\n",
       "      <td>29</td>\n",
       "      <td>3</td>\n",
       "      <td>6</td>\n",
       "      <td>902</td>\n",
       "    </tr>\n",
       "    <tr>\n",
       "      <th>4</th>\n",
       "      <td>4</td>\n",
       "      <td>4</td>\n",
       "      <td>O</td>\n",
       "      <td>34</td>\n",
       "      <td>6</td>\n",
       "      <td>2</td>\n",
       "      <td>3574</td>\n",
       "    </tr>\n",
       "    <tr>\n",
       "      <th>...</th>\n",
       "      <td>...</td>\n",
       "      <td>...</td>\n",
       "      <td>...</td>\n",
       "      <td>...</td>\n",
       "      <td>...</td>\n",
       "      <td>...</td>\n",
       "      <td>...</td>\n",
       "    </tr>\n",
       "    <tr>\n",
       "      <th>995</th>\n",
       "      <td>995</td>\n",
       "      <td>995</td>\n",
       "      <td>O</td>\n",
       "      <td>33</td>\n",
       "      <td>7</td>\n",
       "      <td>7</td>\n",
       "      <td>2996</td>\n",
       "    </tr>\n",
       "    <tr>\n",
       "      <th>996</th>\n",
       "      <td>996</td>\n",
       "      <td>996</td>\n",
       "      <td>O</td>\n",
       "      <td>21</td>\n",
       "      <td>1</td>\n",
       "      <td>2</td>\n",
       "      <td>667</td>\n",
       "    </tr>\n",
       "    <tr>\n",
       "      <th>997</th>\n",
       "      <td>997</td>\n",
       "      <td>997</td>\n",
       "      <td>O</td>\n",
       "      <td>49</td>\n",
       "      <td>9</td>\n",
       "      <td>7</td>\n",
       "      <td>4158</td>\n",
       "    </tr>\n",
       "    <tr>\n",
       "      <th>998</th>\n",
       "      <td>998</td>\n",
       "      <td>998</td>\n",
       "      <td>AB</td>\n",
       "      <td>56</td>\n",
       "      <td>6</td>\n",
       "      <td>7</td>\n",
       "      <td>2414</td>\n",
       "    </tr>\n",
       "    <tr>\n",
       "      <th>999</th>\n",
       "      <td>999</td>\n",
       "      <td>999</td>\n",
       "      <td>B</td>\n",
       "      <td>64</td>\n",
       "      <td>4</td>\n",
       "      <td>9</td>\n",
       "      <td>788</td>\n",
       "    </tr>\n",
       "  </tbody>\n",
       "</table>\n",
       "<p>1000 rows × 7 columns</p>\n",
       "</div>"
      ],
      "text/plain": [
       "     Unnamed: 0   id groups  age  healthy_eating  active_lifestyle  salary\n",
       "0             0    0      A   36               5                 5    2297\n",
       "1             1    1      A   55               3                 5    1134\n",
       "2             2    2      A   61               8                 1    4969\n",
       "3             3    3      O   29               3                 6     902\n",
       "4             4    4      O   34               6                 2    3574\n",
       "..          ...  ...    ...  ...             ...               ...     ...\n",
       "995         995  995      O   33               7                 7    2996\n",
       "996         996  996      O   21               1                 2     667\n",
       "997         997  997      O   49               9                 7    4158\n",
       "998         998  998     AB   56               6                 7    2414\n",
       "999         999  999      B   64               4                 9     788\n",
       "\n",
       "[1000 rows x 7 columns]"
      ]
     },
     "execution_count": 2,
     "metadata": {},
     "output_type": "execute_result"
    }
   ],
   "source": [
    "df=pd.read_csv(\"employee_data.csv\")\n",
    "df"
   ]
  },
  {
   "cell_type": "code",
   "execution_count": 3,
   "id": "d55303b2",
   "metadata": {},
   "outputs": [
    {
     "data": {
      "text/plain": [
       "(1000, 7)"
      ]
     },
     "execution_count": 3,
     "metadata": {},
     "output_type": "execute_result"
    }
   ],
   "source": [
    "df.shape"
   ]
  },
  {
   "cell_type": "code",
   "execution_count": 4,
   "id": "cc13aa3b",
   "metadata": {},
   "outputs": [
    {
     "name": "stdout",
     "output_type": "stream",
     "text": [
      "<class 'pandas.core.frame.DataFrame'>\n",
      "RangeIndex: 1000 entries, 0 to 999\n",
      "Data columns (total 7 columns):\n",
      " #   Column            Non-Null Count  Dtype \n",
      "---  ------            --------------  ----- \n",
      " 0   Unnamed: 0        1000 non-null   int64 \n",
      " 1   id                1000 non-null   int64 \n",
      " 2   groups            1000 non-null   object\n",
      " 3   age               1000 non-null   int64 \n",
      " 4   healthy_eating    1000 non-null   int64 \n",
      " 5   active_lifestyle  1000 non-null   int64 \n",
      " 6   salary            1000 non-null   int64 \n",
      "dtypes: int64(6), object(1)\n",
      "memory usage: 54.8+ KB\n"
     ]
    }
   ],
   "source": [
    "df.info()"
   ]
  },
  {
   "cell_type": "code",
   "execution_count": 5,
   "id": "fdce2fb9",
   "metadata": {},
   "outputs": [
    {
     "data": {
      "text/plain": [
       "0      2297\n",
       "1      1134\n",
       "2      4969\n",
       "3       902\n",
       "4      3574\n",
       "       ... \n",
       "995    2996\n",
       "996     667\n",
       "997    4158\n",
       "998    2414\n",
       "999     788\n",
       "Name: salary, Length: 1000, dtype: int64"
      ]
     },
     "execution_count": 5,
     "metadata": {},
     "output_type": "execute_result"
    }
   ],
   "source": [
    "df['salary']"
   ]
  },
  {
   "cell_type": "code",
   "execution_count": 6,
   "id": "2eabc26c",
   "metadata": {},
   "outputs": [
    {
     "data": {
      "text/plain": [
       "2227.461"
      ]
     },
     "execution_count": 6,
     "metadata": {},
     "output_type": "execute_result"
    }
   ],
   "source": [
    "df['salary'].mean()"
   ]
  },
  {
   "cell_type": "code",
   "execution_count": 7,
   "id": "63094670",
   "metadata": {},
   "outputs": [
    {
     "data": {
      "text/plain": [
       "5550"
      ]
     },
     "execution_count": 7,
     "metadata": {},
     "output_type": "execute_result"
    }
   ],
   "source": [
    "df['salary'].min()\n",
    "df['salary'].max()"
   ]
  },
  {
   "cell_type": "code",
   "execution_count": 8,
   "id": "67f110ac",
   "metadata": {},
   "outputs": [
    {
     "data": {
      "text/plain": [
       "2174.0"
      ]
     },
     "execution_count": 8,
     "metadata": {},
     "output_type": "execute_result"
    }
   ],
   "source": [
    "df['salary'].median()"
   ]
  },
  {
   "cell_type": "code",
   "execution_count": 9,
   "id": "2c307810",
   "metadata": {},
   "outputs": [
    {
     "data": {
      "text/plain": [
       "553"
      ]
     },
     "execution_count": 9,
     "metadata": {},
     "output_type": "execute_result"
    }
   ],
   "source": [
    "df['salary'].min()"
   ]
  },
  {
   "cell_type": "code",
   "execution_count": 10,
   "id": "145d65bb",
   "metadata": {},
   "outputs": [
    {
     "data": {
      "text/plain": [
       "A     375\n",
       "O     375\n",
       "AB    125\n",
       "B     125\n",
       "Name: groups, dtype: int64"
      ]
     },
     "execution_count": 10,
     "metadata": {},
     "output_type": "execute_result"
    }
   ],
   "source": [
    "df['groups'].value_counts()"
   ]
  },
  {
   "cell_type": "code",
   "execution_count": 11,
   "id": "8d1106ee",
   "metadata": {},
   "outputs": [
    {
     "data": {
      "text/plain": [
       "1080.2097600024754"
      ]
     },
     "execution_count": 11,
     "metadata": {},
     "output_type": "execute_result"
    }
   ],
   "source": [
    "df['salary'].std()"
   ]
  },
  {
   "cell_type": "code",
   "execution_count": 12,
   "id": "a32e77fb",
   "metadata": {},
   "outputs": [
    {
     "data": {
      "text/plain": [
       "1166853.1256046053"
      ]
     },
     "execution_count": 12,
     "metadata": {},
     "output_type": "execute_result"
    }
   ],
   "source": [
    "df['salary'].var()"
   ]
  },
  {
   "cell_type": "code",
   "execution_count": null,
   "id": "df72e3e0",
   "metadata": {},
   "outputs": [],
   "source": [
    "df[salary]."
   ]
  }
 ],
 "metadata": {
  "kernelspec": {
   "display_name": "Python 3",
   "language": "python",
   "name": "python3"
  },
  "language_info": {
   "codemirror_mode": {
    "name": "ipython",
    "version": 3
   },
   "file_extension": ".py",
   "mimetype": "text/x-python",
   "name": "python",
   "nbconvert_exporter": "python",
   "pygments_lexer": "ipython3",
   "version": "3.8.8"
  }
 },
 "nbformat": 4,
 "nbformat_minor": 5
}
