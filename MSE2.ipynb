{
 "cells": [
  {
   "cell_type": "code",
   "execution_count": 36,
   "metadata": {},
   "outputs": [
    {
     "name": "stdout",
     "output_type": "stream",
     "text": [
      "\n",
      " empid \n",
      " ['2', '3', '4', '5', '6', '7', '8', '9', '10'] \n",
      " names \n",
      " ['Mrunmayee', 'Jayesh', 'Gouri', 'Mahesh', 'Pranav', 'Saksham', 'Raja', 'Sunil', 'Radha'] \n",
      " city \n",
      " ['Pune', 'Nashik', 'Nashik', 'Pune', 'Pune', 'Pune', 'Nashik', 'Nashik', 'Pune'] \n",
      " post \n",
      " ('Sr. Manager', 'Manager', 'Sr. Manager', 'Supervisor', 'Manager', 'Sr. Manager', 'Manager', 'Sr. Manager', 'Supervisor') \n",
      " salary \n",
      " ['150000', '90500', '100500', '85000', '100000', '150000', '90500', '100500', '85000'] \n",
      " gender \n",
      " ['male', 'male', 'female', 'male', 'male', 'male', 'male', 'male', 'female'] \n",
      " married \n",
      " ['married', 'single', 'married', 'single', 'divorced', 'single', 'married', 'single', 'divorced'] \n",
      " postid \n",
      " {'2': 'Sr. Manager', '3': 'Manager', '4': 'Sr. Manager', '5': 'Supervisor', '6': 'Manager', '7': 'Sr. Manager', '8': 'Manager', '9': 'Sr. Manager', '10': 'Supervisor'} "
     ]
    }
   ],
   "source": [
    "empid=[]\n",
    "names=[]\n",
    "city=[]\n",
    "post=[]\n",
    "salary=[]\n",
    "gender=[]\n",
    "married=[]\n",
    "postid=dict()\n",
    "\n",
    "fp1=open(\"dataset4.csv\",\"r\")\n",
    "data=fp1.readline()\n",
    "\n",
    "while(True):   \n",
    "   \n",
    "    data=fp1.readline()\n",
    "    if not data:\n",
    "        break;\n",
    "    data=data.replace(\"\\n\",\"\")\n",
    "    temp=data.split(\",\")\n",
    "    empid.append(temp[0])\n",
    "    names.append(temp[1])\n",
    "    city.append(temp[2])\n",
    "    post.append(temp[3])\n",
    "    salary.append(temp[4])\n",
    "    gender.append(temp[5])\n",
    "    married.append(temp[6])\n",
    "    postid.update({temp[0]:temp[3]})\n",
    "\n",
    "    \n",
    "  \n",
    "fp1.close()\n",
    "\n",
    "post=tuple(post)\n",
    "print(\"\\n empid \\n\",empid,end=\" \")\n",
    "print(\"\\n names \\n\",names,end=\" \")\n",
    "print(\"\\n city \\n\",city,end=\" \")\n",
    "print(\"\\n post \\n\",post,end=\" \")\n",
    "print(\"\\n salary \\n\",salary,end=\" \")\n",
    "print(\"\\n gender \\n\",gender,end=\" \")\n",
    "print(\"\\n married \\n\",married,end=\" \")\n",
    "print(\"\\n postid \\n\",postid,end=\" \")\n",
    "\n"
   ]
  },
  {
   "cell_type": "code",
   "execution_count": 37,
   "metadata": {},
   "outputs": [
    {
     "name": "stdout",
     "output_type": "stream",
     "text": [
      "Total number of males are  "
     ]
    },
    {
     "data": {
      "text/plain": [
       "7"
      ]
     },
     "execution_count": 37,
     "metadata": {},
     "output_type": "execute_result"
    }
   ],
   "source": [
    "print(\"Total number of males are \",end=\" \")\n",
    "gender.count(\"male\")"
   ]
  },
  {
   "cell_type": "code",
   "execution_count": 38,
   "metadata": {},
   "outputs": [
    {
     "name": "stdout",
     "output_type": "stream",
     "text": [
      "Total number of females are  "
     ]
    },
    {
     "data": {
      "text/plain": [
       "2"
      ]
     },
     "execution_count": 38,
     "metadata": {},
     "output_type": "execute_result"
    }
   ],
   "source": [
    "print(\"Total number of females are \",end=\" \")\n",
    "gender.count(\"female\")"
   ]
  },
  {
   "cell_type": "code",
   "execution_count": 39,
   "metadata": {},
   "outputs": [
    {
     "name": "stdout",
     "output_type": "stream",
     "text": [
      "Total number of singles are  "
     ]
    },
    {
     "data": {
      "text/plain": [
       "4"
      ]
     },
     "execution_count": 39,
     "metadata": {},
     "output_type": "execute_result"
    }
   ],
   "source": [
    "print(\"Total number of singles are \",end=\" \")\n",
    "married.count(\"single\")\n",
    "\n"
   ]
  },
  {
   "cell_type": "code",
   "execution_count": 40,
   "metadata": {},
   "outputs": [
    {
     "name": "stdout",
     "output_type": "stream",
     "text": [
      "Total number of married are  "
     ]
    },
    {
     "data": {
      "text/plain": [
       "3"
      ]
     },
     "execution_count": 40,
     "metadata": {},
     "output_type": "execute_result"
    }
   ],
   "source": [
    "print(\"Total number of married are \",end=\" \")\n",
    "married.count(\"married\")"
   ]
  },
  {
   "cell_type": "code",
   "execution_count": 41,
   "metadata": {},
   "outputs": [
    {
     "name": "stdout",
     "output_type": "stream",
     "text": [
      "Total number of divorced are  "
     ]
    },
    {
     "data": {
      "text/plain": [
       "2"
      ]
     },
     "execution_count": 41,
     "metadata": {},
     "output_type": "execute_result"
    }
   ],
   "source": [
    "print(\"Total number of divorced are \",end=\" \")\n",
    "married.count(\"divorced\")"
   ]
  },
  {
   "cell_type": "code",
   "execution_count": 42,
   "metadata": {},
   "outputs": [
    {
     "name": "stdout",
     "output_type": "stream",
     "text": [
      "employee id of manegar =  3\n",
      "employee id of manegar =  6\n",
      "employee id of manegar =  8\n"
     ]
    }
   ],
   "source": [
    "for key, value in postid.items():\n",
    "  if value == \"Manager\":\n",
    "   print(\"employee id of manegar = \",key,end=\"\\n\")"
   ]
  },
  {
   "cell_type": "code",
   "execution_count": 43,
   "metadata": {},
   "outputs": [
    {
     "name": "stdout",
     "output_type": "stream",
     "text": [
      "employee id of supervisor =  5\n",
      "employee id of supervisor =  10\n"
     ]
    }
   ],
   "source": [
    "for key, value in postid.items():\n",
    "  if value == \"Supervisor\":\n",
    "   print(\"employee id of supervisor = \",key,end=\"\\n\")"
   ]
  },
  {
   "cell_type": "code",
   "execution_count": null,
   "metadata": {},
   "outputs": [],
   "source": []
  }
 ],
 "metadata": {
  "kernelspec": {
   "display_name": "base",
   "language": "python",
   "name": "python3"
  },
  "language_info": {
   "codemirror_mode": {
    "name": "ipython",
    "version": 3
   },
   "file_extension": ".py",
   "mimetype": "text/x-python",
   "name": "python",
   "nbconvert_exporter": "python",
   "pygments_lexer": "ipython3",
   "version": "3.7.1"
  },
  "orig_nbformat": 4
 },
 "nbformat": 4,
 "nbformat_minor": 2
}
